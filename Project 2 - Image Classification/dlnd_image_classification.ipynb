{
 "cells": [
  {
   "cell_type": "markdown",
   "metadata": {
    "collapsed": true
   },
   "source": [
    "# Image Classification\n",
    "In this project, you'll classify images from the [CIFAR-10 dataset](https://www.cs.toronto.edu/~kriz/cifar.html).  The dataset consists of airplanes, dogs, cats, and other objects. You'll preprocess the images, then train a convolutional neural network on all the samples. The images need to be normalized and the labels need to be one-hot encoded.  You'll get to apply what you learned and build a convolutional, max pooling, dropout, and fully connected layers.  At the end, you'll get to see your neural network's predictions on the sample images.\n",
    "## Get the Data\n",
    "Run the following cell to download the [CIFAR-10 dataset for python](https://www.cs.toronto.edu/~kriz/cifar-10-python.tar.gz)."
   ]
  },
  {
   "cell_type": "code",
   "execution_count": 6,
   "metadata": {
    "collapsed": false
   },
   "outputs": [
    {
     "name": "stdout",
     "output_type": "stream",
     "text": [
      "All files found!\n"
     ]
    }
   ],
   "source": [
    "\"\"\"\n",
    "DON'T MODIFY ANYTHING IN THIS CELL THAT IS BELOW THIS LINE\n",
    "\"\"\"\n",
    "from urllib.request import urlretrieve\n",
    "from os.path import isfile, isdir\n",
    "from tqdm import tqdm\n",
    "import problem_unittests as tests\n",
    "import tarfile\n",
    "\n",
    "cifar10_dataset_folder_path = 'cifar-10-batches-py'\n",
    "\n",
    "class DLProgress(tqdm):\n",
    "    last_block = 0\n",
    "\n",
    "    def hook(self, block_num=1, block_size=1, total_size=None):\n",
    "        self.total = total_size\n",
    "        self.update((block_num - self.last_block) * block_size)\n",
    "        self.last_block = block_num\n",
    "\n",
    "if not isfile('cifar-10-python.tar.gz'):\n",
    "    with DLProgress(unit='B', unit_scale=True, miniters=1, desc='CIFAR-10 Dataset') as pbar:\n",
    "        urlretrieve(\n",
    "            'https://www.cs.toronto.edu/~kriz/cifar-10-python.tar.gz',\n",
    "            'cifar-10-python.tar.gz',\n",
    "            pbar.hook)\n",
    "\n",
    "if not isdir(cifar10_dataset_folder_path):\n",
    "    with tarfile.open('cifar-10-python.tar.gz') as tar:\n",
    "        tar.extractall()\n",
    "        tar.close()\n",
    "\n",
    "\n",
    "tests.test_folder_path(cifar10_dataset_folder_path)"
   ]
  },
  {
   "cell_type": "markdown",
   "metadata": {},
   "source": [
    "## Explore the Data\n",
    "The dataset is broken into batches to prevent your machine from running out of memory.  The CIFAR-10 dataset consists of 5 batches, named `data_batch_1`, `data_batch_2`, etc.. Each batch contains the labels and images that are one of the following:\n",
    "* airplane\n",
    "* automobile\n",
    "* bird\n",
    "* cat\n",
    "* deer\n",
    "* dog\n",
    "* frog\n",
    "* horse\n",
    "* ship\n",
    "* truck\n",
    "\n",
    "Understanding a dataset is part of making predictions on the data.  Play around with the code cell below by changing the `batch_id` and `sample_id`. The `batch_id` is the id for a batch (1-5). The `sample_id` is the id for a image and label pair in the batch.\n",
    "\n",
    "Ask yourself \"What are all possible labels?\", \"What is the range of values for the image data?\", \"Are the labels in order or random?\".  Answers to questions like these will help you preprocess the data and end up with better predictions."
   ]
  },
  {
   "cell_type": "code",
   "execution_count": 7,
   "metadata": {
    "collapsed": false
   },
   "outputs": [
    {
     "name": "stdout",
     "output_type": "stream",
     "text": [
      "\n",
      "Stats of batch 1:\n",
      "Samples: 10000\n",
      "Label Counts: {0: 1005, 1: 974, 2: 1032, 3: 1016, 4: 999, 5: 937, 6: 1030, 7: 1001, 8: 1025, 9: 981}\n",
      "First 20 Labels: [6, 9, 9, 4, 1, 1, 2, 7, 8, 3, 4, 7, 7, 2, 9, 9, 9, 3, 2, 6]\n",
      "\n",
      "Example of Image 5:\n",
      "Image - Min Value: 0 Max Value: 252\n",
      "Image - Shape: (32, 32, 3)\n",
      "Label - Label Id: 1 Name: automobile\n"
     ]
    },
    {
     "data": {
      "image/png": "[encoded data removed]",
      "text/plain": [
       "<matplotlib.figure.Figure at 0x7fd58753e710>"
      ]
     },
     "metadata": {
      "image/png": {
       "height": 250,
       "width": 253
      }
     },
     "output_type": "display_data"
    }
   ],
   "source": [
    "%matplotlib inline\n",
    "%config InlineBackend.figure_format = 'retina'\n",
    "\n",
    "import helper\n",
    "import numpy as np\n",
    "\n",
    "# Explore the dataset\n",
    "batch_id = 1\n",
    "sample_id = 5\n",
    "helper.display_stats(cifar10_dataset_folder_path, batch_id, sample_id)"
   ]
  },
  {
   "cell_type": "markdown",
   "metadata": {},
   "source": [
    "## Implement Preprocess Functions\n",
    "### Normalize\n",
    "In the cell below, implement the `normalize` function to take in image data, `x`, and return it as a normalized Numpy array. The values should be in the range of 0 to 1, inclusive.  The return object should be the same shape as `x`."
   ]
  },
  {
   "cell_type": "code",
   "execution_count": 4,
   "metadata": {
    "collapsed": false
   },
   "outputs": [
    {
     "name": "stdout",
     "output_type": "stream",
     "text": [
      "Tests Passed\n"
     ]
    }
   ],
   "source": [
    "def normalize(x):\n",
    "    \"\"\"\n",
    "    Normalize a list of sample image data in the range of 0 to 1\n",
    "    : x: List of image data.  The image shape is (32, 32, 3)\n",
    "    : return: Numpy array of normalize data\n",
    "    \"\"\"\n",
    "    return x/np.max(x)\n",
    "\n",
    "\n",
    "\"\"\"\n",
    "DON'T MODIFY ANYTHING IN THIS CELL THAT IS BELOW THIS LINE\n",
    "\"\"\"\n",
    "tests.test_normalize(normalize)"
   ]
  },
  {
   "cell_type": "markdown",
   "metadata": {},
   "source": [
    "### One-hot encode\n",
    "Just like the previous code cell, you'll be implementing a function for preprocessing.  This time, you'll implement the `one_hot_encode` function. The input, `x`, are a list of labels.  Implement the function to return the list of labels as One-Hot encoded Numpy array.  The possible values for labels are 0 to 9. The one-hot encoding function should return the same encoding for each value between each call to `one_hot_encode`.  Make sure to save the map of encodings outside the function.\n",
    "\n",
    "Hint: Don't reinvent the wheel."
   ]
  },
  {
   "cell_type": "code",
   "execution_count": 18,
   "metadata": {
    "collapsed": false
   },
   "outputs": [
    {
     "name": "stdout",
     "output_type": "stream",
     "text": [
      "Tests Passed\n"
     ]
    }
   ],
   "source": [
    "def one_hot_encode(x):\n",
    "    \"\"\"\n",
    "    One hot encode a list of sample labels. Return a one-hot encoded vector for each label.\n",
    "    : x: List of sample Labels\n",
    "    : return: Numpy array of one-hot encoded labels\n",
    "    \"\"\"\n",
    "    result = []\n",
    "    for value in x:\n",
    "        result.append([0 if i != value else 1 for i in range(10)])\n",
    "    return np.array(result)\n",
    "\n",
    "\"\"\"\n",
    "DON'T MODIFY ANYTHING IN THIS CELL THAT IS BELOW THIS LINE\n",
    "\"\"\"\n",
    "tests.test_one_hot_encode(one_hot_encode)"
   ]
  },
  {
   "cell_type": "markdown",
   "metadata": {},
   "source": [
    "### Randomize Data\n",
    "As you saw from exploring the data above, the order of the samples are randomized.  It doesn't hurt to randomize it again, but you don't need to for this dataset."
   ]
  },
  {
   "cell_type": "markdown",
   "metadata": {},
   "source": [
    "## Preprocess all the data and save it\n",
    "Running the code cell below will preprocess all the CIFAR-10 data and save it to file. The code below also uses 10% of the training data for validation."
   ]
  },
  {
   "cell_type": "code",
   "execution_count": 19,
   "metadata": {
    "collapsed": false
   },
   "outputs": [],
   "source": [
    "\"\"\"\n",
    "DON'T MODIFY ANYTHING IN THIS CELL\n",
    "\"\"\"\n",
    "# Preprocess Training, Validation, and Testing Data\n",
    "helper.preprocess_and_save_data(cifar10_dataset_folder_path, normalize, one_hot_encode)"
   ]
  },
  {
   "cell_type": "markdown",
   "metadata": {},
   "source": [
    "# Check Point\n",
    "This is your first checkpoint.  If you ever decide to come back to this notebook or have to restart the notebook, you can start from here.  The preprocessed data has been saved to disk."
   ]
  },
  {
   "cell_type": "code",
   "execution_count": 1,
   "metadata": {
    "collapsed": true
   },
   "outputs": [],
   "source": [
    "\"\"\"\n",
    "DON'T MODIFY ANYTHING IN THIS CELL\n",
    "\"\"\"\n",
    "import pickle\n",
    "import problem_unittests as tests\n",
    "import helper\n",
    "\n",
    "# Load the Preprocessed Validation data\n",
    "valid_features, valid_labels = pickle.load(open('preprocess_validation.p', mode='rb'))"
   ]
  },
  {
   "cell_type": "markdown",
   "metadata": {},
   "source": [
    "## Build the network\n",
    "For the neural network, you'll build each layer into a function.  Most of the code you've seen has been outside of functions. To test your code more thoroughly, we require that you put each layer in a function.  This allows us to give you better feedback and test for simple mistakes using our unittests before you submit your project.\n",
    "\n",
    ">**Note:** If you're finding it hard to dedicate enough time for this course each week, we've provided a small shortcut to this part of the project. In the next couple of problems, you'll have the option to use classes from the [TensorFlow Layers](https://www.tensorflow.org/api_docs/python/tf/layers) or [TensorFlow Layers (contrib)](https://www.tensorflow.org/api_guides/python/contrib.layers) packages to build each layer, except the layers you build in the \"Convolutional and Max Pooling Layer\" section.  TF Layers is similar to Keras's and TFLearn's abstraction to layers, so it's easy to pickup.\n",
    "\n",
    ">However, if you would like to get the most out of this course, try to solve all the problems _without_ using anything from the TF Layers packages. You **can** still use classes from other packages that happen to have the same name as ones you find in TF Layers! For example, instead of using the TF Layers version of the `conv2d` class, [tf.layers.conv2d](https://www.tensorflow.org/api_docs/python/tf/layers/conv2d), you would want to use the TF Neural Network version of `conv2d`, [tf.nn.conv2d](https://www.tensorflow.org/api_docs/python/tf/nn/conv2d). \n",
    "\n",
    "Let's begin!\n",
    "\n",
    "### Input\n",
    "The neural network needs to read the image data, one-hot encoded labels, and dropout keep probability. Implement the following functions\n",
    "* Implement `neural_net_image_input`\n",
    " * Return a [TF Placeholder](https://www.tensorflow.org/api_docs/python/tf/placeholder)\n",
    " * Set the shape using `image_shape` with batch size set to `None`.\n",
    " * Name the TensorFlow placeholder \"x\" using the TensorFlow `name` parameter in the [TF Placeholder](https://www.tensorflow.org/api_docs/python/tf/placeholder).\n",
    "* Implement `neural_net_label_input`\n",
    " * Return a [TF Placeholder](https://www.tensorflow.org/api_docs/python/tf/placeholder)\n",
    " * Set the shape using `n_classes` with batch size set to `None`.\n",
    " * Name the TensorFlow placeholder \"y\" using the TensorFlow `name` parameter in the [TF Placeholder](https://www.tensorflow.org/api_docs/python/tf/placeholder).\n",
    "* Implement `neural_net_keep_prob_input`\n",
    " * Return a [TF Placeholder](https://www.tensorflow.org/api_docs/python/tf/placeholder) for dropout keep probability.\n",
    " * Name the TensorFlow placeholder \"keep_prob\" using the TensorFlow `name` parameter in the [TF Placeholder](https://www.tensorflow.org/api_docs/python/tf/placeholder).\n",
    "\n",
    "These names will be used at the end of the project to load your saved model.\n",
    "\n",
    "Note: `None` for shapes in TensorFlow allow for a dynamic size."
   ]
  },
  {
   "cell_type": "code",
   "execution_count": 2,
   "metadata": {
    "collapsed": false
   },
   "outputs": [
    {
     "name": "stdout",
     "output_type": "stream",
     "text": [
      "Image Input Tests Passed.\n",
      "Label Input Tests Passed.\n",
      "Keep Prob Tests Passed.\n"
     ]
    }
   ],
   "source": [
    "import tensorflow as tf\n",
    "\n",
    "def neural_net_image_input(image_shape):\n",
    "    \"\"\"\n",
    "    Return a Tensor for a bach of image input\n",
    "    : image_shape: Shape of the images\n",
    "    : return: Tensor for image input.\n",
    "    \"\"\"\n",
    "    shape = (None,) + image_shape\n",
    "    return tf.placeholder(tf.float32, shape, name='x')\n",
    "\n",
    "\n",
    "def neural_net_label_input(n_classes):\n",
    "    \"\"\"\n",
    "    Return a Tensor for a batch of label input\n",
    "    : n_classes: Number of classes\n",
    "    : return: Tensor for label input.\n",
    "    \"\"\"\n",
    "    shape = [None, n_classes]\n",
    "    return tf.placeholder(tf.float32, shape, name='y')\n",
    "\n",
    "\n",
    "def neural_net_keep_prob_input():\n",
    "    \"\"\"\n",
    "    Return a Tensor for keep probability\n",
    "    : return: Tensor for keep probability.\n",
    "    \"\"\"\n",
    "    return tf.placeholder(tf.float32, name='keep_prob')\n",
    "\n",
    "\n",
    "\"\"\"\n",
    "DON'T MODIFY ANYTHING IN THIS CELL THAT IS BELOW THIS LINE\n",
    "\"\"\"\n",
    "tf.reset_default_graph()\n",
    "tests.test_nn_image_inputs(neural_net_image_input)\n",
    "tests.test_nn_label_inputs(neural_net_label_input)\n",
    "tests.test_nn_keep_prob_inputs(neural_net_keep_prob_input)"
   ]
  },
  {
   "cell_type": "markdown",
   "metadata": {},
   "source": [
    "### Convolution and Max Pooling Layer\n",
    "Convolution layers have a lot of success with images. For this code cell, you should implement the function `conv2d_maxpool` to apply convolution then max pooling:\n",
    "* Create the weight and bias using `conv_ksize`, `conv_num_outputs` and the shape of `x_tensor`.\n",
    "* Apply a convolution to `x_tensor` using weight and `conv_strides`.\n",
    " * We recommend you use same padding, but you're welcome to use any padding.\n",
    "* Add bias\n",
    "* Add a nonlinear activation to the convolution.\n",
    "* Apply Max Pooling using `pool_ksize` and `pool_strides`.\n",
    " * We recommend you use same padding, but you're welcome to use any padding.\n",
    "\n",
    "**Note:** You **can't** use [TensorFlow Layers](https://www.tensorflow.org/api_docs/python/tf/layers) or [TensorFlow Layers (contrib)](https://www.tensorflow.org/api_guides/python/contrib.layers) for **this** layer, but you can still use TensorFlow's [Neural Network](https://www.tensorflow.org/api_docs/python/tf/nn) package. You may still use the shortcut option for all the **other** layers."
   ]
  },
  {
   "cell_type": "code",
   "execution_count": 54,
   "metadata": {
    "collapsed": false
   },
   "outputs": [
    {
     "name": "stdout",
     "output_type": "stream",
     "text": [
      "Tests Passed\n"
     ]
    }
   ],
   "source": [
    "def conv2d_maxpool(x_tensor, conv_num_outputs, conv_ksize, conv_strides, pool_ksize, pool_strides):\n",
    "    \"\"\"\n",
    "    Apply convolution then max pooling to x_tensor\n",
    "    :param x_tensor: TensorFlow Tensor\n",
    "    :param conv_num_outputs: Number of outputs for the convolutional layer\n",
    "    :param conv_ksize: kernal size 2-D Tuple for the convolutional layer\n",
    "    :param conv_strides: Stride 2-D Tuple for convolution\n",
    "    :param pool_ksize: kernal size 2-D Tuple for pool\n",
    "    :param pool_strides: Stride 2-D Tuple for pool\n",
    "    : return: A tensor that represents convolution and max pooling of x_tensor\n",
    "    \"\"\"\n",
    "    conv_size_height, conv_size_width = conv_ksize\n",
    "    conv_num_inputs = x_tensor.get_shape()[3].value\n",
    "    conv_strides = [1, *conv_strides, 1]\n",
    "    pool_ksize = [1, *pool_ksize, 1]\n",
    "    pool_strides = [1, *pool_strides, 1]\n",
    "    \n",
    "    weight = tf.Variable(tf.truncated_normal([conv_size_height, conv_size_width, conv_num_inputs, conv_num_outputs], mean=0.0, stddev=0.01))\n",
    "    bias = tf.Variable(tf.zeros(conv_num_outputs))\n",
    "    conv_layer = tf.nn.conv2d(x_tensor, weight, strides=conv_strides, padding='SAME')\n",
    "    conv_layer = tf.nn.bias_add(conv_layer, bias)\n",
    "    conv_layer = tf.nn.relu(conv_layer)\n",
    "    maxpool_layer = tf.nn.max_pool(conv_layer, pool_ksize, pool_strides, padding='SAME')\n",
    "    return maxpool_layer\n",
    "\n",
    "\n",
    "\"\"\"\n",
    "DON'T MODIFY ANYTHING IN THIS CELL THAT IS BELOW THIS LINE\n",
    "\"\"\"\n",
    "tests.test_con_pool(conv2d_maxpool)"
   ]
  },
  {
   "cell_type": "markdown",
   "metadata": {},
   "source": [
    "### Flatten Layer\n",
    "Implement the `flatten` function to change the dimension of `x_tensor` from a 4-D tensor to a 2-D tensor.  The output should be the shape (*Batch Size*, *Flattened Image Size*). Shortcut option: you can use classes from the [TensorFlow Layers](https://www.tensorflow.org/api_docs/python/tf/layers) or [TensorFlow Layers (contrib)](https://www.tensorflow.org/api_guides/python/contrib.layers) packages for this layer. For more of a challenge, only use other TensorFlow packages."
   ]
  },
  {
   "cell_type": "code",
   "execution_count": 55,
   "metadata": {
    "collapsed": false
   },
   "outputs": [
    {
     "name": "stdout",
     "output_type": "stream",
     "text": [
      "Tests Passed\n"
     ]
    }
   ],
   "source": [
    "def flatten(x_tensor):\n",
    "    \"\"\"\n",
    "    Flatten x_tensor to (Batch Size, Flattened Image Size)\n",
    "    : x_tensor: A tensor of size (Batch Size, ...), where ... are the image dimensions.\n",
    "    : return: A tensor of size (Batch Size, Flattened Image Size).\n",
    "    \"\"\"\n",
    "    old_shape = x_tensor.get_shape()\n",
    "    flattened_image_size = np.prod([x.value for x in old_shape[1:]])\n",
    "    new_shape = [-1, flattened_image_size]\n",
    "    return tf.reshape(x_tensor, new_shape)\n",
    "\n",
    "\n",
    "\"\"\"\n",
    "DON'T MODIFY ANYTHING IN THIS CELL THAT IS BELOW THIS LINE\n",
    "\"\"\"\n",
    "tests.test_flatten(flatten)"
   ]
  },
  {
   "cell_type": "markdown",
   "metadata": {},
   "source": [
    "### Fully-Connected Layer\n",
    "Implement the `fully_conn` function to apply a fully connected layer to `x_tensor` with the shape (*Batch Size*, *num_outputs*). Shortcut option: you can use classes from the [TensorFlow Layers](https://www.tensorflow.org/api_docs/python/tf/layers) or [TensorFlow Layers (contrib)](https://www.tensorflow.org/api_guides/python/contrib.layers) packages for this layer. For more of a challenge, only use other TensorFlow packages."
   ]
  },
  {
   "cell_type": "code",
   "execution_count": 56,
   "metadata": {
    "collapsed": false
   },
   "outputs": [
    {
     "name": "stdout",
     "output_type": "stream",
     "text": [
      "Tests Passed\n"
     ]
    }
   ],
   "source": [
    "def fully_conn(x_tensor, num_outputs):\n",
    "    \"\"\"\n",
    "    Apply a fully connected layer to x_tensor using weight and bias\n",
    "    : x_tensor: A 2-D tensor where the first dimension is batch size.\n",
    "    : num_outputs: The number of output that the new tensor should be.\n",
    "    : return: A 2-D tensor where the second dimension is num_outputs.\n",
    "    \"\"\"\n",
    "    num_inputs = x_tensor.get_shape()[1].value\n",
    "    weights = tf.Variable(tf.truncated_normal([num_inputs, num_outputs], mean=0.0, stddev=0.01))\n",
    "    biases = tf.Variable(tf.zeros(num_outputs))\n",
    "    return tf.nn.relu(tf.matmul(x_tensor, weights) + biases)\n",
    "\n",
    "\n",
    "\"\"\"\n",
    "DON'T MODIFY ANYTHING IN THIS CELL THAT IS BELOW THIS LINE\n",
    "\"\"\"\n",
    "tests.test_fully_conn(fully_conn)"
   ]
  },
  {
   "cell_type": "markdown",
   "metadata": {},
   "source": [
    "### Output Layer\n",
    "Implement the `output` function to apply a fully connected layer to `x_tensor` with the shape (*Batch Size*, *num_outputs*). Shortcut option: you can use classes from the [TensorFlow Layers](https://www.tensorflow.org/api_docs/python/tf/layers) or [TensorFlow Layers (contrib)](https://www.tensorflow.org/api_guides/python/contrib.layers) packages for this layer. For more of a challenge, only use other TensorFlow packages.\n",
    "\n",
    "**Note:** Activation, softmax, or cross entropy should **not** be applied to this."
   ]
  },
  {
   "cell_type": "code",
   "execution_count": 57,
   "metadata": {
    "collapsed": false
   },
   "outputs": [
    {
     "name": "stdout",
     "output_type": "stream",
     "text": [
      "Tests Passed\n"
     ]
    }
   ],
   "source": [
    "def output(x_tensor, num_outputs):\n",
    "    \"\"\"\n",
    "    Apply a output layer to x_tensor using weight and bias\n",
    "    : x_tensor: A 2-D tensor where the first dimension is batch size.\n",
    "    : num_outputs: The number of output that the new tensor should be.\n",
    "    : return: A 2-D tensor where the second dimension is num_outputs.\n",
    "    \"\"\"\n",
    "    num_inputs = x_tensor.get_shape()[1].value\n",
    "    weights = tf.Variable(tf.truncated_normal([num_inputs, num_outputs], mean=0.0, stddev=0.01))\n",
    "    biases = tf.Variable(tf.zeros(num_outputs))\n",
    "    return tf.matmul(x_tensor, weights) + biases\n",
    "\n",
    "\n",
    "\"\"\"\n",
    "DON'T MODIFY ANYTHING IN THIS CELL THAT IS BELOW THIS LINE\n",
    "\"\"\"\n",
    "tests.test_output(output)"
   ]
  },
  {
   "cell_type": "markdown",
   "metadata": {},
   "source": [
    "### Create Convolutional Model\n",
    "Implement the function `conv_net` to create a convolutional neural network model. The function takes in a batch of images, `x`, and outputs logits.  Use the layers you created above to create this model:\n",
    "\n",
    "* Apply 1, 2, or 3 Convolution and Max Pool layers\n",
    "* Apply a Flatten Layer\n",
    "* Apply 1, 2, or 3 Fully Connected Layers\n",
    "* Apply an Output Layer\n",
    "* Return the output\n",
    "* Apply [TensorFlow's Dropout](https://www.tensorflow.org/api_docs/python/tf/nn/dropout) to one or more layers in the model using `keep_prob`. "
   ]
  },
  {
   "cell_type": "code",
   "execution_count": 63,
   "metadata": {
    "collapsed": false
   },
   "outputs": [
    {
     "name": "stdout",
     "output_type": "stream",
     "text": [
      "Neural Network Built!\n"
     ]
    }
   ],
   "source": [
    "def conv_net(x, keep_prob):\n",
    "    \"\"\"\n",
    "    Create a convolutional neural network model\n",
    "    : x: Placeholder tensor that holds image data.\n",
    "    : keep_prob: Placeholder tensor that hold dropout keep probability.\n",
    "    : return: Tensor that represents logits\n",
    "    \"\"\"\n",
    "    conv_1 = conv2d_maxpool(x, 32, (5,5), (1,1), (4,4), (2,2))\n",
    "    conv_2 = conv2d_maxpool(conv_1, 128, (5,5), (1,1), (4,4), (2,2))\n",
    "\n",
    "    flat = flatten(conv_2)\n",
    "    \n",
    "    fully = fully_conn(flat, 200)\n",
    "    fully = tf.nn.dropout(fully, keep_prob)\n",
    "    fully = fully_conn(flat, 70)\n",
    "\n",
    "    return output(fully, 10)\n",
    "\n",
    "\n",
    "\"\"\"\n",
    "DON'T MODIFY ANYTHING IN THIS CELL THAT IS BELOW THIS LINE\n",
    "\"\"\"\n",
    "\n",
    "##############################\n",
    "## Build the Neural Network ##\n",
    "##############################\n",
    "\n",
    "# Remove previous weights, bias, inputs, etc..\n",
    "tf.reset_default_graph()\n",
    "\n",
    "# Inputs\n",
    "x = neural_net_image_input((32, 32, 3))\n",
    "y = neural_net_label_input(10)\n",
    "keep_prob = neural_net_keep_prob_input()\n",
    "\n",
    "# Model\n",
    "logits = conv_net(x, keep_prob)\n",
    "\n",
    "# Name logits Tensor, so that is can be loaded from disk after training\n",
    "logits = tf.identity(logits, name='logits')\n",
    "\n",
    "# Loss and Optimizer\n",
    "cost = tf.reduce_mean(tf.nn.softmax_cross_entropy_with_logits(logits=logits, labels=y))\n",
    "optimizer = tf.train.AdamOptimizer().minimize(cost)\n",
    "\n",
    "# Accuracy\n",
    "correct_pred = tf.equal(tf.argmax(logits, 1), tf.argmax(y, 1))\n",
    "accuracy = tf.reduce_mean(tf.cast(correct_pred, tf.float32), name='accuracy')\n",
    "\n",
    "tests.test_conv_net(conv_net)"
   ]
  },
  {
   "cell_type": "markdown",
   "metadata": {},
   "source": [
    "## Train the Neural Network\n",
    "### Single Optimization\n",
    "Implement the function `train_neural_network` to do a single optimization.  The optimization should use `optimizer` to optimize in `session` with a `feed_dict` of the following:\n",
    "* `x` for image input\n",
    "* `y` for labels\n",
    "* `keep_prob` for keep probability for dropout\n",
    "\n",
    "This function will be called for each batch, so `tf.global_variables_initializer()` has already been called.\n",
    "\n",
    "Note: Nothing needs to be returned. This function is only optimizing the neural network."
   ]
  },
  {
   "cell_type": "code",
   "execution_count": 59,
   "metadata": {
    "collapsed": false
   },
   "outputs": [
    {
     "name": "stdout",
     "output_type": "stream",
     "text": [
      "Tests Passed\n"
     ]
    }
   ],
   "source": [
    "def train_neural_network(session, optimizer, keep_probability, feature_batch, label_batch):\n",
    "    \"\"\"\n",
    "    Optimize the session on a batch of images and labels\n",
    "    : session: Current TensorFlow session\n",
    "    : optimizer: TensorFlow optimizer function\n",
    "    : keep_probability: keep probability\n",
    "    : feature_batch: Batch of Numpy image data\n",
    "    : label_batch: Batch of Numpy label data\n",
    "    \"\"\"\n",
    "    feed_dict = {\n",
    "        x: feature_batch,\n",
    "        y: label_batch,\n",
    "        keep_prob: keep_probability \n",
    "    }\n",
    "    session.run(optimizer, feed_dict=feed_dict)\n",
    "\n",
    "\n",
    "\"\"\"\n",
    "DON'T MODIFY ANYTHING IN THIS CELL THAT IS BELOW THIS LINE\n",
    "\"\"\"\n",
    "tests.test_train_nn(train_neural_network)"
   ]
  },
  {
   "cell_type": "markdown",
   "metadata": {},
   "source": [
    "### Show Stats\n",
    "Implement the function `print_stats` to print loss and validation accuracy.  Use the global variables `valid_features` and `valid_labels` to calculate validation accuracy.  Use a keep probability of `1.0` to calculate the loss and validation accuracy."
   ]
  },
  {
   "cell_type": "code",
   "execution_count": 60,
   "metadata": {
    "collapsed": false
   },
   "outputs": [],
   "source": [
    "def print_stats(session, feature_batch, label_batch, cost, accuracy):\n",
    "    \"\"\"\n",
    "    Print information about loss and validation accuracy\n",
    "    : session: Current TensorFlow session\n",
    "    : feature_batch: Batch of Numpy image data\n",
    "    : label_batch: Batch of Numpy label data\n",
    "    : cost: TensorFlow cost function\n",
    "    : accuracy: TensorFlow accuracy function\n",
    "    \"\"\"\n",
    "    current_cost = sess.run(cost, feed_dict={x: feature_batch, y: label_batch, keep_prob: 1})\n",
    "    valid_accuracy = sess.run(accuracy, feed_dict={x: valid_features, y: valid_labels, keep_prob: 1})\n",
    "    print('Cost: {:<8.3} Valid Accuracy: {:<5.3}'.format(current_cost,valid_accuracy))"
   ]
  },
  {
   "cell_type": "markdown",
   "metadata": {},
   "source": [
    "### Hyperparameters\n",
    "Tune the following parameters:\n",
    "* Set `epochs` to the number of iterations until the network stops learning or start overfitting\n",
    "* Set `batch_size` to the highest number that your machine has memory for.  Most people set them to common sizes of memory:\n",
    " * 64\n",
    " * 128\n",
    " * 256\n",
    " * ...\n",
    "* Set `keep_probability` to the probability of keeping a node using dropout"
   ]
  },
  {
   "cell_type": "code",
   "execution_count": 65,
   "metadata": {
    "collapsed": true
   },
   "outputs": [],
   "source": [
    "# TODO: Tune Parameters\n",
    "epochs = 50\n",
    "batch_size = 256\n",
    "keep_probability = 0.5"
   ]
  },
  {
   "cell_type": "markdown",
   "metadata": {},
   "source": [
    "### Train on a Single CIFAR-10 Batch\n",
    "Instead of training the neural network on all the CIFAR-10 batches of data, let's use a single batch. This should save time while you iterate on the model to get a better accuracy.  Once the final validation accuracy is 50% or greater, run the model on all the data in the next section."
   ]
  },
  {
   "cell_type": "code",
   "execution_count": 66,
   "metadata": {
    "collapsed": false
   },
   "outputs": [
    {
     "name": "stdout",
     "output_type": "stream",
     "text": [
      "Checking the Training on a Single Batch...\n",
      "Epoch  1, CIFAR-10 Batch 1:  Cost: 2.21     Valid Accuracy: 0.164\n",
      "Epoch  2, CIFAR-10 Batch 1:  Cost: 2.21     Valid Accuracy: 0.249\n",
      "Epoch  3, CIFAR-10 Batch 1:  Cost: 2.19     Valid Accuracy: 0.297\n",
      "Epoch  4, CIFAR-10 Batch 1:  Cost: 2.15     Valid Accuracy: 0.335\n",
      "Epoch  5, CIFAR-10 Batch 1:  Cost: 2.05     Valid Accuracy: 0.381\n",
      "Epoch  6, CIFAR-10 Batch 1:  Cost: 1.92     Valid Accuracy: 0.402\n",
      "Epoch  7, CIFAR-10 Batch 1:  Cost: 1.84     Valid Accuracy: 0.42 \n",
      "Epoch  8, CIFAR-10 Batch 1:  Cost: 1.77     Valid Accuracy: 0.427\n",
      "Epoch  9, CIFAR-10 Batch 1:  Cost: 1.67     Valid Accuracy: 0.443\n",
      "Epoch 10, CIFAR-10 Batch 1:  Cost: 1.6      Valid Accuracy: 0.456\n",
      "Epoch 11, CIFAR-10 Batch 1:  Cost: 1.53     Valid Accuracy: 0.464\n",
      "Epoch 12, CIFAR-10 Batch 1:  Cost: 1.51     Valid Accuracy: 0.461\n",
      "Epoch 13, CIFAR-10 Batch 1:  Cost: 1.48     Valid Accuracy: 0.467\n",
      "Epoch 14, CIFAR-10 Batch 1:  Cost: 1.42     Valid Accuracy: 0.487\n",
      "Epoch 15, CIFAR-10 Batch 1:  Cost: 1.37     Valid Accuracy: 0.497\n",
      "Epoch 16, CIFAR-10 Batch 1:  Cost: 1.3      Valid Accuracy: 0.504\n",
      "Epoch 17, CIFAR-10 Batch 1:  Cost: 1.26     Valid Accuracy: 0.506\n",
      "Epoch 18, CIFAR-10 Batch 1:  Cost: 1.21     Valid Accuracy: 0.512\n",
      "Epoch 19, CIFAR-10 Batch 1:  Cost: 1.15     Valid Accuracy: 0.517\n",
      "Epoch 20, CIFAR-10 Batch 1:  Cost: 1.1      Valid Accuracy: 0.525\n",
      "Epoch 21, CIFAR-10 Batch 1:  Cost: 1.05     Valid Accuracy: 0.529\n",
      "Epoch 22, CIFAR-10 Batch 1:  Cost: 0.999    Valid Accuracy: 0.533\n",
      "Epoch 23, CIFAR-10 Batch 1:  Cost: 0.939    Valid Accuracy: 0.54 \n",
      "Epoch 24, CIFAR-10 Batch 1:  Cost: 0.889    Valid Accuracy: 0.547\n",
      "Epoch 25, CIFAR-10 Batch 1:  Cost: 0.837    Valid Accuracy: 0.551\n",
      "Epoch 26, CIFAR-10 Batch 1:  Cost: 0.782    Valid Accuracy: 0.555\n",
      "Epoch 27, CIFAR-10 Batch 1:  Cost: 0.733    Valid Accuracy: 0.562\n",
      "Epoch 28, CIFAR-10 Batch 1:  Cost: 0.691    Valid Accuracy: 0.567\n",
      "Epoch 29, CIFAR-10 Batch 1:  Cost: 0.643    Valid Accuracy: 0.571\n",
      "Epoch 30, CIFAR-10 Batch 1:  Cost: 0.602    Valid Accuracy: 0.573\n",
      "Epoch 31, CIFAR-10 Batch 1:  Cost: 0.561    Valid Accuracy: 0.576\n",
      "Epoch 32, CIFAR-10 Batch 1:  Cost: 0.523    Valid Accuracy: 0.58 \n",
      "Epoch 33, CIFAR-10 Batch 1:  Cost: 0.491    Valid Accuracy: 0.583\n",
      "Epoch 34, CIFAR-10 Batch 1:  Cost: 0.46     Valid Accuracy: 0.58 \n",
      "Epoch 35, CIFAR-10 Batch 1:  Cost: 0.433    Valid Accuracy: 0.581\n",
      "Epoch 36, CIFAR-10 Batch 1:  Cost: 0.405    Valid Accuracy: 0.583\n",
      "Epoch 37, CIFAR-10 Batch 1:  Cost: 0.378    Valid Accuracy: 0.589\n",
      "Epoch 38, CIFAR-10 Batch 1:  Cost: 0.351    Valid Accuracy: 0.59 \n",
      "Epoch 39, CIFAR-10 Batch 1:  Cost: 0.331    Valid Accuracy: 0.592\n",
      "Epoch 40, CIFAR-10 Batch 1:  Cost: 0.317    Valid Accuracy: 0.589\n",
      "Epoch 41, CIFAR-10 Batch 1:  Cost: 0.315    Valid Accuracy: 0.571\n",
      "Epoch 42, CIFAR-10 Batch 1:  Cost: 0.302    Valid Accuracy: 0.583\n",
      "Epoch 43, CIFAR-10 Batch 1:  Cost: 0.295    Valid Accuracy: 0.58 \n",
      "Epoch 44, CIFAR-10 Batch 1:  Cost: 0.32     Valid Accuracy: 0.568\n",
      "Epoch 45, CIFAR-10 Batch 1:  Cost: 0.265    Valid Accuracy: 0.595\n",
      "Epoch 46, CIFAR-10 Batch 1:  Cost: 0.225    Valid Accuracy: 0.603\n",
      "Epoch 47, CIFAR-10 Batch 1:  Cost: 0.21     Valid Accuracy: 0.606\n",
      "Epoch 48, CIFAR-10 Batch 1:  Cost: 0.198    Valid Accuracy: 0.606\n",
      "Epoch 49, CIFAR-10 Batch 1:  Cost: 0.189    Valid Accuracy: 0.603\n",
      "Epoch 50, CIFAR-10 Batch 1:  Cost: 0.181    Valid Accuracy: 0.602\n"
     ]
    }
   ],
   "source": [
    "\"\"\"\n",
    "DON'T MODIFY ANYTHING IN THIS CELL\n",
    "\"\"\"\n",
    "print('Checking the Training on a Single Batch...')\n",
    "with tf.Session() as sess:\n",
    "    # Initializing the variables\n",
    "    sess.run(tf.global_variables_initializer())\n",
    "    \n",
    "    # Training cycle\n",
    "    for epoch in range(epochs):\n",
    "        batch_i = 1\n",
    "        for batch_features, batch_labels in helper.load_preprocess_training_batch(batch_i, batch_size):\n",
    "            train_neural_network(sess, optimizer, keep_probability, batch_features, batch_labels)\n",
    "        print('Epoch {:>2}, CIFAR-10 Batch {}:  '.format(epoch + 1, batch_i), end='')\n",
    "        print_stats(sess, batch_features, batch_labels, cost, accuracy)"
   ]
  },
  {
   "cell_type": "markdown",
   "metadata": {},
   "source": [
    "### Fully Train the Model\n",
    "Now that you got a good accuracy with a single CIFAR-10 batch, try it with all five batches."
   ]
  },
  {
   "cell_type": "code",
   "execution_count": 67,
   "metadata": {
    "collapsed": false
   },
   "outputs": [
    {
     "name": "stdout",
     "output_type": "stream",
     "text": [
      "Training...\n",
      "Epoch  1, CIFAR-10 Batch 1:  Cost: 2.19     Valid Accuracy: 0.248\n",
      "Epoch  1, CIFAR-10 Batch 2:  Cost: 1.86     Valid Accuracy: 0.306\n",
      "Epoch  1, CIFAR-10 Batch 3:  Cost: 1.73     Valid Accuracy: 0.317\n",
      "Epoch  1, CIFAR-10 Batch 4:  Cost: 1.76     Valid Accuracy: 0.369\n",
      "Epoch  1, CIFAR-10 Batch 5:  Cost: 1.61     Valid Accuracy: 0.399\n",
      "Epoch  2, CIFAR-10 Batch 1:  Cost: 1.9      Valid Accuracy: 0.422\n",
      "Epoch  2, CIFAR-10 Batch 2:  Cost: 1.69     Valid Accuracy: 0.417\n",
      "Epoch  2, CIFAR-10 Batch 3:  Cost: 1.36     Valid Accuracy: 0.425\n",
      "Epoch  2, CIFAR-10 Batch 4:  Cost: 1.5      Valid Accuracy: 0.449\n",
      "Epoch  2, CIFAR-10 Batch 5:  Cost: 1.51     Valid Accuracy: 0.457\n",
      "Epoch  3, CIFAR-10 Batch 1:  Cost: 1.66     Valid Accuracy: 0.467\n",
      "Epoch  3, CIFAR-10 Batch 2:  Cost: 1.41     Valid Accuracy: 0.447\n",
      "Epoch  3, CIFAR-10 Batch 3:  Cost: 1.08     Valid Accuracy: 0.48 \n",
      "Epoch  3, CIFAR-10 Batch 4:  Cost: 1.37     Valid Accuracy: 0.507\n",
      "Epoch  3, CIFAR-10 Batch 5:  Cost: 1.36     Valid Accuracy: 0.482\n",
      "Epoch  4, CIFAR-10 Batch 1:  Cost: 1.5      Valid Accuracy: 0.514\n",
      "Epoch  4, CIFAR-10 Batch 2:  Cost: 1.22     Valid Accuracy: 0.506\n",
      "Epoch  4, CIFAR-10 Batch 3:  Cost: 0.945    Valid Accuracy: 0.511\n",
      "Epoch  4, CIFAR-10 Batch 4:  Cost: 1.23     Valid Accuracy: 0.529\n",
      "Epoch  4, CIFAR-10 Batch 5:  Cost: 1.24     Valid Accuracy: 0.524\n",
      "Epoch  5, CIFAR-10 Batch 1:  Cost: 1.38     Valid Accuracy: 0.54 \n",
      "Epoch  5, CIFAR-10 Batch 2:  Cost: 1.06     Valid Accuracy: 0.548\n",
      "Epoch  5, CIFAR-10 Batch 3:  Cost: 0.846    Valid Accuracy: 0.548\n",
      "Epoch  5, CIFAR-10 Batch 4:  Cost: 1.1      Valid Accuracy: 0.562\n",
      "Epoch  5, CIFAR-10 Batch 5:  Cost: 1.1      Valid Accuracy: 0.567\n",
      "Epoch  6, CIFAR-10 Batch 1:  Cost: 1.23     Valid Accuracy: 0.569\n",
      "Epoch  6, CIFAR-10 Batch 2:  Cost: 0.909    Valid Accuracy: 0.58 \n",
      "Epoch  6, CIFAR-10 Batch 3:  Cost: 0.735    Valid Accuracy: 0.579\n",
      "Epoch  6, CIFAR-10 Batch 4:  Cost: 0.985    Valid Accuracy: 0.6  \n",
      "Epoch  6, CIFAR-10 Batch 5:  Cost: 0.952    Valid Accuracy: 0.594\n",
      "Epoch  7, CIFAR-10 Batch 1:  Cost: 1.06     Valid Accuracy: 0.597\n",
      "Epoch  7, CIFAR-10 Batch 2:  Cost: 0.793    Valid Accuracy: 0.596\n",
      "Epoch  7, CIFAR-10 Batch 3:  Cost: 0.613    Valid Accuracy: 0.602\n",
      "Epoch  7, CIFAR-10 Batch 4:  Cost: 0.899    Valid Accuracy: 0.615\n",
      "Epoch  7, CIFAR-10 Batch 5:  Cost: 0.789    Valid Accuracy: 0.604\n",
      "Epoch  8, CIFAR-10 Batch 1:  Cost: 0.909    Valid Accuracy: 0.62 \n",
      "Epoch  8, CIFAR-10 Batch 2:  Cost: 0.703    Valid Accuracy: 0.62 \n",
      "Epoch  8, CIFAR-10 Batch 3:  Cost: 0.523    Valid Accuracy: 0.628\n",
      "Epoch  8, CIFAR-10 Batch 4:  Cost: 0.804    Valid Accuracy: 0.643\n",
      "Epoch  8, CIFAR-10 Batch 5:  Cost: 0.645    Valid Accuracy: 0.625\n",
      "Epoch  9, CIFAR-10 Batch 1:  Cost: 0.759    Valid Accuracy: 0.638\n",
      "Epoch  9, CIFAR-10 Batch 2:  Cost: 0.613    Valid Accuracy: 0.642\n",
      "Epoch  9, CIFAR-10 Batch 3:  Cost: 0.455    Valid Accuracy: 0.641\n",
      "Epoch  9, CIFAR-10 Batch 4:  Cost: 0.763    Valid Accuracy: 0.647\n",
      "Epoch  9, CIFAR-10 Batch 5:  Cost: 0.54     Valid Accuracy: 0.645\n",
      "Epoch 10, CIFAR-10 Batch 1:  Cost: 0.66     Valid Accuracy: 0.651\n",
      "Epoch 10, CIFAR-10 Batch 2:  Cost: 0.529    Valid Accuracy: 0.659\n",
      "Epoch 10, CIFAR-10 Batch 3:  Cost: 0.382    Valid Accuracy: 0.659\n",
      "Epoch 10, CIFAR-10 Batch 4:  Cost: 0.692    Valid Accuracy: 0.654\n",
      "Epoch 10, CIFAR-10 Batch 5:  Cost: 0.459    Valid Accuracy: 0.666\n",
      "Epoch 11, CIFAR-10 Batch 1:  Cost: 0.587    Valid Accuracy: 0.656\n",
      "Epoch 11, CIFAR-10 Batch 2:  Cost: 0.446    Valid Accuracy: 0.677\n",
      "Epoch 11, CIFAR-10 Batch 3:  Cost: 0.327    Valid Accuracy: 0.666\n",
      "Epoch 11, CIFAR-10 Batch 4:  Cost: 0.604    Valid Accuracy: 0.673\n",
      "Epoch 11, CIFAR-10 Batch 5:  Cost: 0.405    Valid Accuracy: 0.661\n",
      "Epoch 12, CIFAR-10 Batch 1:  Cost: 0.499    Valid Accuracy: 0.666\n",
      "Epoch 12, CIFAR-10 Batch 2:  Cost: 0.381    Valid Accuracy: 0.672\n",
      "Epoch 12, CIFAR-10 Batch 3:  Cost: 0.273    Valid Accuracy: 0.674\n",
      "Epoch 12, CIFAR-10 Batch 4:  Cost: 0.53     Valid Accuracy: 0.682\n",
      "Epoch 12, CIFAR-10 Batch 5:  Cost: 0.351    Valid Accuracy: 0.67 \n",
      "Epoch 13, CIFAR-10 Batch 1:  Cost: 0.419    Valid Accuracy: 0.682\n",
      "Epoch 13, CIFAR-10 Batch 2:  Cost: 0.334    Valid Accuracy: 0.673\n",
      "Epoch 13, CIFAR-10 Batch 3:  Cost: 0.235    Valid Accuracy: 0.687\n",
      "Epoch 13, CIFAR-10 Batch 4:  Cost: 0.47     Valid Accuracy: 0.686\n",
      "Epoch 13, CIFAR-10 Batch 5:  Cost: 0.315    Valid Accuracy: 0.67 \n",
      "Epoch 14, CIFAR-10 Batch 1:  Cost: 0.342    Valid Accuracy: 0.692\n",
      "Epoch 14, CIFAR-10 Batch 2:  Cost: 0.299    Valid Accuracy: 0.673\n",
      "Epoch 14, CIFAR-10 Batch 3:  Cost: 0.194    Valid Accuracy: 0.704\n",
      "Epoch 14, CIFAR-10 Batch 4:  Cost: 0.444    Valid Accuracy: 0.689\n",
      "Epoch 14, CIFAR-10 Batch 5:  Cost: 0.285    Valid Accuracy: 0.674\n",
      "Epoch 15, CIFAR-10 Batch 1:  Cost: 0.294    Valid Accuracy: 0.706\n",
      "Epoch 15, CIFAR-10 Batch 2:  Cost: 0.258    Valid Accuracy: 0.689\n",
      "Epoch 15, CIFAR-10 Batch 3:  Cost: 0.17     Valid Accuracy: 0.714\n",
      "Epoch 15, CIFAR-10 Batch 4:  Cost: 0.393    Valid Accuracy: 0.698\n",
      "Epoch 15, CIFAR-10 Batch 5:  Cost: 0.225    Valid Accuracy: 0.687\n",
      "Epoch 16, CIFAR-10 Batch 1:  Cost: 0.264    Valid Accuracy: 0.702\n",
      "Epoch 16, CIFAR-10 Batch 2:  Cost: 0.227    Valid Accuracy: 0.698\n",
      "Epoch 16, CIFAR-10 Batch 3:  Cost: 0.15     Valid Accuracy: 0.713\n",
      "Epoch 16, CIFAR-10 Batch 4:  Cost: 0.347    Valid Accuracy: 0.707\n",
      "Epoch 16, CIFAR-10 Batch 5:  Cost: 0.203    Valid Accuracy: 0.69 \n",
      "Epoch 17, CIFAR-10 Batch 1:  Cost: 0.228    Valid Accuracy: 0.708\n",
      "Epoch 17, CIFAR-10 Batch 2:  Cost: 0.203    Valid Accuracy: 0.696\n",
      "Epoch 17, CIFAR-10 Batch 3:  Cost: 0.129    Valid Accuracy: 0.723\n",
      "Epoch 17, CIFAR-10 Batch 4:  Cost: 0.296    Valid Accuracy: 0.71 \n",
      "Epoch 17, CIFAR-10 Batch 5:  Cost: 0.174    Valid Accuracy: 0.697\n",
      "Epoch 18, CIFAR-10 Batch 1:  Cost: 0.204    Valid Accuracy: 0.704\n",
      "Epoch 18, CIFAR-10 Batch 2:  Cost: 0.176    Valid Accuracy: 0.709\n",
      "Epoch 18, CIFAR-10 Batch 3:  Cost: 0.121    Valid Accuracy: 0.732\n",
      "Epoch 18, CIFAR-10 Batch 4:  Cost: 0.248    Valid Accuracy: 0.714\n",
      "Epoch 18, CIFAR-10 Batch 5:  Cost: 0.139    Valid Accuracy: 0.714\n",
      "Epoch 19, CIFAR-10 Batch 1:  Cost: 0.18     Valid Accuracy: 0.707\n",
      "Epoch 19, CIFAR-10 Batch 2:  Cost: 0.148    Valid Accuracy: 0.716\n",
      "Epoch 19, CIFAR-10 Batch 3:  Cost: 0.109    Valid Accuracy: 0.735\n",
      "Epoch 19, CIFAR-10 Batch 4:  Cost: 0.222    Valid Accuracy: 0.718\n",
      "Epoch 19, CIFAR-10 Batch 5:  Cost: 0.119    Valid Accuracy: 0.717\n",
      "Epoch 20, CIFAR-10 Batch 1:  Cost: 0.146    Valid Accuracy: 0.707\n",
      "Epoch 20, CIFAR-10 Batch 2:  Cost: 0.133    Valid Accuracy: 0.718\n",
      "Epoch 20, CIFAR-10 Batch 3:  Cost: 0.104    Valid Accuracy: 0.724\n",
      "Epoch 20, CIFAR-10 Batch 4:  Cost: 0.203    Valid Accuracy: 0.72 \n",
      "Epoch 20, CIFAR-10 Batch 5:  Cost: 0.109    Valid Accuracy: 0.723\n",
      "Epoch 21, CIFAR-10 Batch 1:  Cost: 0.142    Valid Accuracy: 0.704\n",
      "Epoch 21, CIFAR-10 Batch 2:  Cost: 0.117    Valid Accuracy: 0.721\n",
      "Epoch 21, CIFAR-10 Batch 3:  Cost: 0.102    Valid Accuracy: 0.717\n",
      "Epoch 21, CIFAR-10 Batch 4:  Cost: 0.174    Valid Accuracy: 0.727\n",
      "Epoch 21, CIFAR-10 Batch 5:  Cost: 0.1      Valid Accuracy: 0.73 \n",
      "Epoch 22, CIFAR-10 Batch 1:  Cost: 0.134    Valid Accuracy: 0.707\n",
      "Epoch 22, CIFAR-10 Batch 2:  Cost: 0.105    Valid Accuracy: 0.72 \n",
      "Epoch 22, CIFAR-10 Batch 3:  Cost: 0.098    Valid Accuracy: 0.715\n",
      "Epoch 22, CIFAR-10 Batch 4:  Cost: 0.148    Valid Accuracy: 0.731\n",
      "Epoch 22, CIFAR-10 Batch 5:  Cost: 0.0854   Valid Accuracy: 0.731\n",
      "Epoch 23, CIFAR-10 Batch 1:  Cost: 0.114    Valid Accuracy: 0.706\n",
      "Epoch 23, CIFAR-10 Batch 2:  Cost: 0.0889   Valid Accuracy: 0.718\n",
      "Epoch 23, CIFAR-10 Batch 3:  Cost: 0.0941   Valid Accuracy: 0.713\n",
      "Epoch 23, CIFAR-10 Batch 4:  Cost: 0.118    Valid Accuracy: 0.733\n",
      "Epoch 23, CIFAR-10 Batch 5:  Cost: 0.0708   Valid Accuracy: 0.732\n",
      "Epoch 24, CIFAR-10 Batch 1:  Cost: 0.106    Valid Accuracy: 0.701\n",
      "Epoch 24, CIFAR-10 Batch 2:  Cost: 0.0808   Valid Accuracy: 0.719\n",
      "Epoch 24, CIFAR-10 Batch 3:  Cost: 0.0815   Valid Accuracy: 0.715\n",
      "Epoch 24, CIFAR-10 Batch 4:  Cost: 0.104    Valid Accuracy: 0.73 \n",
      "Epoch 24, CIFAR-10 Batch 5:  Cost: 0.0605   Valid Accuracy: 0.726\n",
      "Epoch 25, CIFAR-10 Batch 1:  Cost: 0.114    Valid Accuracy: 0.702\n",
      "Epoch 25, CIFAR-10 Batch 2:  Cost: 0.0895   Valid Accuracy: 0.719\n",
      "Epoch 25, CIFAR-10 Batch 3:  Cost: 0.0947   Valid Accuracy: 0.704\n",
      "Epoch 25, CIFAR-10 Batch 4:  Cost: 0.106    Valid Accuracy: 0.73 \n",
      "Epoch 25, CIFAR-10 Batch 5:  Cost: 0.0574   Valid Accuracy: 0.732\n",
      "Epoch 26, CIFAR-10 Batch 1:  Cost: 0.0757   Valid Accuracy: 0.714\n",
      "Epoch 26, CIFAR-10 Batch 2:  Cost: 0.0758   Valid Accuracy: 0.713\n",
      "Epoch 26, CIFAR-10 Batch 3:  Cost: 0.1      Valid Accuracy: 0.686\n",
      "Epoch 26, CIFAR-10 Batch 4:  Cost: 0.102    Valid Accuracy: 0.729\n",
      "Epoch 26, CIFAR-10 Batch 5:  Cost: 0.0589   Valid Accuracy: 0.73 \n",
      "Epoch 27, CIFAR-10 Batch 1:  Cost: 0.0634   Valid Accuracy: 0.702\n",
      "Epoch 27, CIFAR-10 Batch 2:  Cost: 0.0578   Valid Accuracy: 0.712\n",
      "Epoch 27, CIFAR-10 Batch 3:  Cost: 0.0806   Valid Accuracy: 0.697\n",
      "Epoch 27, CIFAR-10 Batch 4:  Cost: 0.0985   Valid Accuracy: 0.733\n",
      "Epoch 27, CIFAR-10 Batch 5:  Cost: 0.0661   Valid Accuracy: 0.725\n",
      "Epoch 28, CIFAR-10 Batch 1:  Cost: 0.0767   Valid Accuracy: 0.696\n",
      "Epoch 28, CIFAR-10 Batch 2:  Cost: 0.0662   Valid Accuracy: 0.713\n",
      "Epoch 28, CIFAR-10 Batch 3:  Cost: 0.059    Valid Accuracy: 0.716\n",
      "Epoch 28, CIFAR-10 Batch 4:  Cost: 0.0847   Valid Accuracy: 0.731\n",
      "Epoch 28, CIFAR-10 Batch 5:  Cost: 0.0641   Valid Accuracy: 0.72 \n",
      "Epoch 29, CIFAR-10 Batch 1:  Cost: 0.123    Valid Accuracy: 0.684\n",
      "Epoch 29, CIFAR-10 Batch 2:  Cost: 0.0636   Valid Accuracy: 0.713\n",
      "Epoch 29, CIFAR-10 Batch 3:  Cost: 0.0723   Valid Accuracy: 0.701\n",
      "Epoch 29, CIFAR-10 Batch 4:  Cost: 0.0848   Valid Accuracy: 0.727\n",
      "Epoch 29, CIFAR-10 Batch 5:  Cost: 0.0579   Valid Accuracy: 0.72 \n",
      "Epoch 30, CIFAR-10 Batch 1:  Cost: 0.0813   Valid Accuracy: 0.687\n",
      "Epoch 30, CIFAR-10 Batch 2:  Cost: 0.102    Valid Accuracy: 0.709\n",
      "Epoch 30, CIFAR-10 Batch 3:  Cost: 0.0606   Valid Accuracy: 0.708\n",
      "Epoch 30, CIFAR-10 Batch 4:  Cost: 0.0848   Valid Accuracy: 0.732\n",
      "Epoch 30, CIFAR-10 Batch 5:  Cost: 0.0448   Valid Accuracy: 0.72 \n",
      "Epoch 31, CIFAR-10 Batch 1:  Cost: 0.0572   Valid Accuracy: 0.724\n",
      "Epoch 31, CIFAR-10 Batch 2:  Cost: 0.0806   Valid Accuracy: 0.718\n",
      "Epoch 31, CIFAR-10 Batch 3:  Cost: 0.0547   Valid Accuracy: 0.71 \n",
      "Epoch 31, CIFAR-10 Batch 4:  Cost: 0.0627   Valid Accuracy: 0.73 \n",
      "Epoch 31, CIFAR-10 Batch 5:  Cost: 0.063    Valid Accuracy: 0.716\n",
      "Epoch 32, CIFAR-10 Batch 1:  Cost: 0.0463   Valid Accuracy: 0.722\n",
      "Epoch 32, CIFAR-10 Batch 2:  Cost: 0.0618   Valid Accuracy: 0.716\n",
      "Epoch 32, CIFAR-10 Batch 3:  Cost: 0.0545   Valid Accuracy: 0.692\n",
      "Epoch 32, CIFAR-10 Batch 4:  Cost: 0.0635   Valid Accuracy: 0.717\n",
      "Epoch 32, CIFAR-10 Batch 5:  Cost: 0.056    Valid Accuracy: 0.733\n",
      "Epoch 33, CIFAR-10 Batch 1:  Cost: 0.0556   Valid Accuracy: 0.721\n",
      "Epoch 33, CIFAR-10 Batch 2:  Cost: 0.066    Valid Accuracy: 0.717\n",
      "Epoch 33, CIFAR-10 Batch 3:  Cost: 0.0506   Valid Accuracy: 0.709\n",
      "Epoch 33, CIFAR-10 Batch 4:  Cost: 0.0704   Valid Accuracy: 0.713\n",
      "Epoch 33, CIFAR-10 Batch 5:  Cost: 0.0446   Valid Accuracy: 0.719\n",
      "Epoch 34, CIFAR-10 Batch 1:  Cost: 0.046    Valid Accuracy: 0.723\n",
      "Epoch 34, CIFAR-10 Batch 2:  Cost: 0.0515   Valid Accuracy: 0.725\n",
      "Epoch 34, CIFAR-10 Batch 3:  Cost: 0.0427   Valid Accuracy: 0.722\n",
      "Epoch 34, CIFAR-10 Batch 4:  Cost: 0.0784   Valid Accuracy: 0.708\n",
      "Epoch 34, CIFAR-10 Batch 5:  Cost: 0.0422   Valid Accuracy: 0.716\n",
      "Epoch 35, CIFAR-10 Batch 1:  Cost: 0.0433   Valid Accuracy: 0.718\n",
      "Epoch 35, CIFAR-10 Batch 2:  Cost: 0.0409   Valid Accuracy: 0.745\n",
      "Epoch 35, CIFAR-10 Batch 3:  Cost: 0.0375   Valid Accuracy: 0.707\n",
      "Epoch 35, CIFAR-10 Batch 4:  Cost: 0.0614   Valid Accuracy: 0.704\n",
      "Epoch 35, CIFAR-10 Batch 5:  Cost: 0.0534   Valid Accuracy: 0.692\n",
      "Epoch 36, CIFAR-10 Batch 1:  Cost: 0.0517   Valid Accuracy: 0.713\n",
      "Epoch 36, CIFAR-10 Batch 2:  Cost: 0.0444   Valid Accuracy: 0.727\n",
      "Epoch 36, CIFAR-10 Batch 3:  Cost: 0.0302   Valid Accuracy: 0.715\n",
      "Epoch 36, CIFAR-10 Batch 4:  Cost: 0.079    Valid Accuracy: 0.698\n",
      "Epoch 36, CIFAR-10 Batch 5:  Cost: 0.0429   Valid Accuracy: 0.702\n",
      "Epoch 37, CIFAR-10 Batch 1:  Cost: 0.051    Valid Accuracy: 0.715\n",
      "Epoch 37, CIFAR-10 Batch 2:  Cost: 0.0452   Valid Accuracy: 0.715\n",
      "Epoch 37, CIFAR-10 Batch 3:  Cost: 0.0243   Valid Accuracy: 0.719\n",
      "Epoch 37, CIFAR-10 Batch 4:  Cost: 0.108    Valid Accuracy: 0.695\n",
      "Epoch 37, CIFAR-10 Batch 5:  Cost: 0.0413   Valid Accuracy: 0.716\n",
      "Epoch 38, CIFAR-10 Batch 1:  Cost: 0.0375   Valid Accuracy: 0.719\n",
      "Epoch 38, CIFAR-10 Batch 2:  Cost: 0.038    Valid Accuracy: 0.724\n",
      "Epoch 38, CIFAR-10 Batch 3:  Cost: 0.0279   Valid Accuracy: 0.716\n",
      "Epoch 38, CIFAR-10 Batch 4:  Cost: 0.0894   Valid Accuracy: 0.698\n",
      "Epoch 38, CIFAR-10 Batch 5:  Cost: 0.0461   Valid Accuracy: 0.711\n",
      "Epoch 39, CIFAR-10 Batch 1:  Cost: 0.0492   Valid Accuracy: 0.706\n",
      "Epoch 39, CIFAR-10 Batch 2:  Cost: 0.0274   Valid Accuracy: 0.721\n",
      "Epoch 39, CIFAR-10 Batch 3:  Cost: 0.0462   Valid Accuracy: 0.694\n",
      "Epoch 39, CIFAR-10 Batch 4:  Cost: 0.0645   Valid Accuracy: 0.715\n",
      "Epoch 39, CIFAR-10 Batch 5:  Cost: 0.0331   Valid Accuracy: 0.705\n",
      "Epoch 40, CIFAR-10 Batch 1:  Cost: 0.0545   Valid Accuracy: 0.707\n",
      "Epoch 40, CIFAR-10 Batch 2:  Cost: 0.03     Valid Accuracy: 0.711\n",
      "Epoch 40, CIFAR-10 Batch 3:  Cost: 0.0282   Valid Accuracy: 0.702\n",
      "Epoch 40, CIFAR-10 Batch 4:  Cost: 0.0468   Valid Accuracy: 0.718\n",
      "Epoch 40, CIFAR-10 Batch 5:  Cost: 0.0426   Valid Accuracy: 0.682\n",
      "Epoch 41, CIFAR-10 Batch 1:  Cost: 0.0344   Valid Accuracy: 0.708\n",
      "Epoch 41, CIFAR-10 Batch 2:  Cost: 0.0396   Valid Accuracy: 0.705\n",
      "Epoch 41, CIFAR-10 Batch 3:  Cost: 0.026    Valid Accuracy: 0.717\n",
      "Epoch 41, CIFAR-10 Batch 4:  Cost: 0.0736   Valid Accuracy: 0.685\n",
      "Epoch 41, CIFAR-10 Batch 5:  Cost: 0.0711   Valid Accuracy: 0.656\n",
      "Epoch 42, CIFAR-10 Batch 1:  Cost: 0.0482   Valid Accuracy: 0.698\n",
      "Epoch 42, CIFAR-10 Batch 2:  Cost: 0.0423   Valid Accuracy: 0.697\n",
      "Epoch 42, CIFAR-10 Batch 3:  Cost: 0.0315   Valid Accuracy: 0.704\n",
      "Epoch 42, CIFAR-10 Batch 4:  Cost: 0.0492   Valid Accuracy: 0.689\n",
      "Epoch 42, CIFAR-10 Batch 5:  Cost: 0.0254   Valid Accuracy: 0.71 \n",
      "Epoch 43, CIFAR-10 Batch 1:  Cost: 0.0642   Valid Accuracy: 0.703\n",
      "Epoch 43, CIFAR-10 Batch 2:  Cost: 0.0289   Valid Accuracy: 0.692\n",
      "Epoch 43, CIFAR-10 Batch 3:  Cost: 0.0277   Valid Accuracy: 0.7  \n",
      "Epoch 43, CIFAR-10 Batch 4:  Cost: 0.039    Valid Accuracy: 0.707\n",
      "Epoch 43, CIFAR-10 Batch 5:  Cost: 0.0303   Valid Accuracy: 0.718\n",
      "Epoch 44, CIFAR-10 Batch 1:  Cost: 0.0362   Valid Accuracy: 0.707\n",
      "Epoch 44, CIFAR-10 Batch 2:  Cost: 0.0308   Valid Accuracy: 0.681\n",
      "Epoch 44, CIFAR-10 Batch 3:  Cost: 0.0233   Valid Accuracy: 0.71 \n",
      "Epoch 44, CIFAR-10 Batch 4:  Cost: 0.036    Valid Accuracy: 0.701\n",
      "Epoch 44, CIFAR-10 Batch 5:  Cost: 0.0294   Valid Accuracy: 0.727\n",
      "Epoch 45, CIFAR-10 Batch 1:  Cost: 0.043    Valid Accuracy: 0.693\n",
      "Epoch 45, CIFAR-10 Batch 2:  Cost: 0.0257   Valid Accuracy: 0.698\n",
      "Epoch 45, CIFAR-10 Batch 3:  Cost: 0.0172   Valid Accuracy: 0.72 \n",
      "Epoch 45, CIFAR-10 Batch 4:  Cost: 0.0382   Valid Accuracy: 0.701\n",
      "Epoch 45, CIFAR-10 Batch 5:  Cost: 0.0197   Valid Accuracy: 0.729\n",
      "Epoch 46, CIFAR-10 Batch 1:  Cost: 0.0596   Valid Accuracy: 0.674\n",
      "Epoch 46, CIFAR-10 Batch 2:  Cost: 0.0253   Valid Accuracy: 0.704\n",
      "Epoch 46, CIFAR-10 Batch 3:  Cost: 0.0189   Valid Accuracy: 0.702\n",
      "Epoch 46, CIFAR-10 Batch 4:  Cost: 0.025    Valid Accuracy: 0.708\n",
      "Epoch 46, CIFAR-10 Batch 5:  Cost: 0.0207   Valid Accuracy: 0.723\n",
      "Epoch 47, CIFAR-10 Batch 1:  Cost: 0.0578   Valid Accuracy: 0.682\n",
      "Epoch 47, CIFAR-10 Batch 2:  Cost: 0.042    Valid Accuracy: 0.696\n",
      "Epoch 47, CIFAR-10 Batch 3:  Cost: 0.0293   Valid Accuracy: 0.708\n",
      "Epoch 47, CIFAR-10 Batch 4:  Cost: 0.02     Valid Accuracy: 0.716\n",
      "Epoch 47, CIFAR-10 Batch 5:  Cost: 0.0288   Valid Accuracy: 0.727\n",
      "Epoch 48, CIFAR-10 Batch 1:  Cost: 0.0557   Valid Accuracy: 0.676\n",
      "Epoch 48, CIFAR-10 Batch 2:  Cost: 0.0268   Valid Accuracy: 0.708\n",
      "Epoch 48, CIFAR-10 Batch 3:  Cost: 0.0466   Valid Accuracy: 0.687\n",
      "Epoch 48, CIFAR-10 Batch 4:  Cost: 0.0194   Valid Accuracy: 0.697\n",
      "Epoch 48, CIFAR-10 Batch 5:  Cost: 0.0181   Valid Accuracy: 0.73 \n",
      "Epoch 49, CIFAR-10 Batch 1:  Cost: 0.041    Valid Accuracy: 0.662\n",
      "Epoch 49, CIFAR-10 Batch 2:  Cost: 0.0209   Valid Accuracy: 0.702\n",
      "Epoch 49, CIFAR-10 Batch 3:  Cost: 0.0162   Valid Accuracy: 0.691\n",
      "Epoch 49, CIFAR-10 Batch 4:  Cost: 0.0141   Valid Accuracy: 0.707\n",
      "Epoch 49, CIFAR-10 Batch 5:  Cost: 0.0138   Valid Accuracy: 0.733\n",
      "Epoch 50, CIFAR-10 Batch 1:  Cost: 0.0346   Valid Accuracy: 0.69 \n",
      "Epoch 50, CIFAR-10 Batch 2:  Cost: 0.0165   Valid Accuracy: 0.694\n",
      "Epoch 50, CIFAR-10 Batch 3:  Cost: 0.0113   Valid Accuracy: 0.698\n",
      "Epoch 50, CIFAR-10 Batch 4:  Cost: 0.0237   Valid Accuracy: 0.704\n",
      "Epoch 50, CIFAR-10 Batch 5:  Cost: 0.0178   Valid Accuracy: 0.728\n"
     ]
    }
   ],
   "source": [
    "\"\"\"\n",
    "DON'T MODIFY ANYTHING IN THIS CELL\n",
    "\"\"\"\n",
    "save_model_path = './image_classification'\n",
    "\n",
    "print('Training...')\n",
    "with tf.Session() as sess:\n",
    "    # Initializing the variables\n",
    "    sess.run(tf.global_variables_initializer())\n",
    "    \n",
    "    # Training cycle\n",
    "    for epoch in range(epochs):\n",
    "        # Loop over all batches\n",
    "        n_batches = 5\n",
    "        for batch_i in range(1, n_batches + 1):\n",
    "            for batch_features, batch_labels in helper.load_preprocess_training_batch(batch_i, batch_size):\n",
    "                train_neural_network(sess, optimizer, keep_probability, batch_features, batch_labels)\n",
    "            print('Epoch {:>2}, CIFAR-10 Batch {}:  '.format(epoch + 1, batch_i), end='')\n",
    "            print_stats(sess, batch_features, batch_labels, cost, accuracy)\n",
    "            \n",
    "    # Save Model\n",
    "    saver = tf.train.Saver()\n",
    "    save_path = saver.save(sess, save_model_path)"
   ]
  },
  {
   "cell_type": "markdown",
   "metadata": {},
   "source": [
    "# Checkpoint\n",
    "The model has been saved to disk.\n",
    "## Test Model\n",
    "Test your model against the test dataset.  This will be your final accuracy. You should have an accuracy greater than 50%. If you don't, keep tweaking the model architecture and parameters."
   ]
  },
  {
   "cell_type": "code",
   "execution_count": 68,
   "metadata": {
    "collapsed": false
   },
   "outputs": [
    {
     "name": "stdout",
     "output_type": "stream",
     "text": [
      "Testing Accuracy: 0.71962890625\n",
      "\n"
     ]
    },
    {
     "data": {
      "image/png": "[encoded data removed]",
      "text/plain": [
       "<matplotlib.figure.Figure at 0x7fd5d00f47b8>"
      ]
     },
     "metadata": {
      "image/png": {
       "height": 319,
       "width": 350
      }
     },
     "output_type": "display_data"
    }
   ],
   "source": [
    "\"\"\"\n",
    "DON'T MODIFY ANYTHING IN THIS CELL\n",
    "\"\"\"\n",
    "%matplotlib inline\n",
    "%config InlineBackend.figure_format = 'retina'\n",
    "\n",
    "import tensorflow as tf\n",
    "import pickle\n",
    "import helper\n",
    "import random\n",
    "\n",
    "# Set batch size if not already set\n",
    "try:\n",
    "    if batch_size:\n",
    "        pass\n",
    "except NameError:\n",
    "    batch_size = 64\n",
    "\n",
    "save_model_path = './image_classification'\n",
    "n_samples = 4\n",
    "top_n_predictions = 3\n",
    "\n",
    "def test_model():\n",
    "    \"\"\"\n",
    "    Test the saved model against the test dataset\n",
    "    \"\"\"\n",
    "\n",
    "    test_features, test_labels = pickle.load(open('preprocess_training.p', mode='rb'))\n",
    "    loaded_graph = tf.Graph()\n",
    "\n",
    "    with tf.Session(graph=loaded_graph) as sess:\n",
    "        # Load model\n",
    "        loader = tf.train.import_meta_graph(save_model_path + '.meta')\n",
    "        loader.restore(sess, save_model_path)\n",
    "\n",
    "        # Get Tensors from loaded model\n",
    "        loaded_x = loaded_graph.get_tensor_by_name('x:0')\n",
    "        loaded_y = loaded_graph.get_tensor_by_name('y:0')\n",
    "        loaded_keep_prob = loaded_graph.get_tensor_by_name('keep_prob:0')\n",
    "        loaded_logits = loaded_graph.get_tensor_by_name('logits:0')\n",
    "        loaded_acc = loaded_graph.get_tensor_by_name('accuracy:0')\n",
    "        \n",
    "        # Get accuracy in batches for memory limitations\n",
    "        test_batch_acc_total = 0\n",
    "        test_batch_count = 0\n",
    "        \n",
    "        for train_feature_batch, train_label_batch in helper.batch_features_labels(test_features, test_labels, batch_size):\n",
    "            test_batch_acc_total += sess.run(\n",
    "                loaded_acc,\n",
    "                feed_dict={loaded_x: train_feature_batch, loaded_y: train_label_batch, loaded_keep_prob: 1.0})\n",
    "            test_batch_count += 1\n",
    "\n",
    "        print('Testing Accuracy: {}\\n'.format(test_batch_acc_total/test_batch_count))\n",
    "\n",
    "        # Print Random Samples\n",
    "        random_test_features, random_test_labels = tuple(zip(*random.sample(list(zip(test_features, test_labels)), n_samples)))\n",
    "        random_test_predictions = sess.run(\n",
    "            tf.nn.top_k(tf.nn.softmax(loaded_logits), top_n_predictions),\n",
    "            feed_dict={loaded_x: random_test_features, loaded_y: random_test_labels, loaded_keep_prob: 1.0})\n",
    "        helper.display_image_predictions(random_test_features, random_test_labels, random_test_predictions)\n",
    "\n",
    "\n",
    "test_model()"
   ]
  },
  {
   "cell_type": "markdown",
   "metadata": {},
   "source": [
    "## Why 50-70% Accuracy?\n",
    "You might be wondering why you can't get an accuracy any higher. First things first, 50% isn't bad for a simple CNN.  Pure guessing would get you 10% accuracy. However, you might notice people are getting scores [well above 70%](http://rodrigob.github.io/are_we_there_yet/build/classification_datasets_results.html#43494641522d3130).  That's because we haven't taught you all there is to know about neural networks. We still need to cover a few more techniques.\n",
    "## Submitting This Project\n",
    "When submitting this project, make sure to run all the cells before saving the notebook.  Save the notebook file as \"dlnd_image_classification.ipynb\" and save it as a HTML file under \"File\" -> \"Download as\".  Include the \"helper.py\" and \"problem_unittests.py\" files in your submission."
   ]
  }
 ],
 "metadata": {
  "kernelspec": {
   "display_name": "Python 3",
   "language": "python",
   "name": "python3"
  },
  "language_info": {
   "codemirror_mode": {
    "name": "ipython",
    "version": 3
   },
   "file_extension": ".py",
   "mimetype": "text/x-python",
   "name": "python",
   "nbconvert_exporter": "python",
   "pygments_lexer": "ipython3",
   "version": "3.6.0"
  }
 },
 "nbformat": 4,
 "nbformat_minor": 0
}
